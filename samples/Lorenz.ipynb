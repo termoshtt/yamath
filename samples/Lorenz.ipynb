{
 "cells": [
  {
   "cell_type": "code",
   "execution_count": 1,
   "metadata": {
    "collapsed": true
   },
   "outputs": [],
   "source": [
    "%matplotlib inline"
   ]
  },
  {
   "cell_type": "code",
   "execution_count": 2,
   "metadata": {
    "collapsed": true
   },
   "outputs": [],
   "source": [
    "import sys\n",
    "sys.path += [\"..\"]\n",
    "import yamath.newton as newton"
   ]
  },
  {
   "cell_type": "code",
   "execution_count": 3,
   "metadata": {
    "collapsed": true
   },
   "outputs": [],
   "source": [
    "import logging"
   ]
  },
  {
   "cell_type": "code",
   "execution_count": 4,
   "metadata": {
    "collapsed": false
   },
   "outputs": [],
   "source": [
    "from scipy.integrate import ode"
   ]
  },
  {
   "cell_type": "code",
   "execution_count": 5,
   "metadata": {
    "collapsed": false
   },
   "outputs": [],
   "source": [
    "def Lorenz(t, vy, p, r, b):\n",
    "    x, y, z = vy\n",
    "    return [p*(y-x), x*(r-z)-y, x*y-b*z]"
   ]
  },
  {
   "cell_type": "code",
   "execution_count": 6,
   "metadata": {
    "collapsed": false
   },
   "outputs": [
    {
     "data": {
      "text/plain": [
       "<scipy.integrate._ode.ode at 0x7fc4b33e66d0>"
      ]
     },
     "execution_count": 6,
     "metadata": {},
     "output_type": "execute_result"
    }
   ],
   "source": [
    "r = ode(Lorenz)\n",
    "r.set_integrator(\"dopri5\")\n",
    "r.set_f_params(10., 50., 8./3.)\n",
    "r.set_initial_value((1., 0., 0.), 0)"
   ]
  },
  {
   "cell_type": "code",
   "execution_count": 7,
   "metadata": {
    "collapsed": true
   },
   "outputs": [],
   "source": [
    "z_ave = 45.276968019646574\n",
    "dt = 1e-3"
   ]
  },
  {
   "cell_type": "code",
   "execution_count": 8,
   "metadata": {
    "collapsed": true
   },
   "outputs": [],
   "source": [
    "def Poincare(y, count=1):\n",
    "    \"\"\"Poincare map\n",
    "    \"\"\"\n",
    "    tl = []\n",
    "    c = 0\n",
    "    r.set_initial_value(y, 0)\n",
    "    y_pre = r.y.copy()\n",
    "    step = 0\n",
    "    while True:\n",
    "        r.integrate(r.t + dt)\n",
    "        step += 1\n",
    "        if not r.successful():\n",
    "            raise RuntimeError(\"Iteration failed\")\n",
    "        tl.append([r.t,] + list(r.y))\n",
    "        if r.t > dt and y_pre[2] < z_ave and r.y[2] > z_ave:\n",
    "            c += 1\n",
    "            if c >= count:\n",
    "                a = z_ave - y_pre[2]\n",
    "                b = r.y[2] - z_ave\n",
    "                y_p = (b * y_pre + a * r.y) / (a + b) # 線形に補間\n",
    "                # print(step)\n",
    "                return y_p, pd.DataFrame(tl, columns=[\"t\", \"x\", \"y\", \"z\"]).set_index(\"t\")\n",
    "        y_pre = r.y.copy()"
   ]
  },
  {
   "cell_type": "code",
   "execution_count": 9,
   "metadata": {
    "collapsed": true
   },
   "outputs": [],
   "source": [
    "def P(x):\n",
    "    \"\"\" Poincare Map (on Poincare section)\n",
    "    \"\"\"\n",
    "    yp, _ = Poincare((x[0], x[1], z_ave))\n",
    "    Py = yp[0:2] - x\n",
    "    return Py"
   ]
  },
  {
   "cell_type": "code",
   "execution_count": 10,
   "metadata": {
    "collapsed": true
   },
   "outputs": [],
   "source": [
    "y0 = np.array([-13.03147007,  -0.52028421,  61.0841961 ])\n",
    "yp, tl = Poincare(y0)"
   ]
  },
  {
   "cell_type": "code",
   "execution_count": 11,
   "metadata": {
    "collapsed": false
   },
   "outputs": [
    {
     "data": {
      "text/plain": [
       "array([ 18.8872526 ,  33.82895267,  45.27696802])"
      ]
     },
     "execution_count": 11,
     "metadata": {},
     "output_type": "execute_result"
    }
   ],
   "source": [
    "yp"
   ]
  },
  {
   "cell_type": "code",
   "execution_count": 16,
   "metadata": {
    "collapsed": false
   },
   "outputs": [
    {
     "name": "stderr",
     "output_type": "stream",
     "text": [
      "DEBUG:yamath.newton:count:0\tresidue:5.953255e+01\n",
      "DEBUG:yamath.newton:dx_norm:2.605245e+02\n",
      "INFO:yamath.newton:hook step\n",
      "DEBUG:yamath.newton:nu:0.000000e+00\n",
      "DEBUG:yamath.newton:r:6.250000e-02\n",
      "DEBUG:yamath.newton:Psi:5.889198e+04\n",
      "DEBUG:yamath.newton:Psi:3.670845e-09\n",
      "DEBUG:yamath.newton:Psi:1.468335e-08\n",
      "DEBUG:yamath.newton:Psi:5.873296e-08\n",
      "DEBUG:yamath.newton:Psi:2.349248e-07\n",
      "DEBUG:yamath.newton:Psi:9.395862e-07\n",
      "DEBUG:yamath.newton:Psi:3.756537e-06\n",
      "DEBUG:yamath.newton:Psi:1.499729e-05\n",
      "DEBUG:yamath.newton:Psi:5.953117e-05\n",
      "DEBUG:yamath.newton:Psi:2.310293e-04\n",
      "DEBUG:yamath.newton:Psi:8.237917e-04\n",
      "DEBUG:yamath.newton:Psi:2.247334e-03\n",
      "DEBUG:yamath.newton:Psi:3.622359e-03\n",
      "DEBUG:yamath.newton:value:1.618212e+00\n",
      "INFO:yamath.newton:Convergent into maximum\n",
      "DEBUG:yamath.newton:count:1\tresidue:5.950546e+01\n",
      "DEBUG:yamath.newton:dx_norm:2.553454e+02\n",
      "INFO:yamath.newton:hook step\n",
      "DEBUG:yamath.newton:nu:4.454577e+02\n",
      "DEBUG:yamath.newton:r:6.250000e-02\n",
      "DEBUG:yamath.newton:Psi:3.713256e-03\n",
      "DEBUG:yamath.newton:value:-1.648820e+00\n",
      "DEBUG:yamath.newton:count:2\tresidue:5.947791e+01\n",
      "DEBUG:yamath.newton:dx_norm:2.515972e+02\n",
      "INFO:yamath.newton:hook step\n",
      "DEBUG:yamath.newton:nu:4.454577e+02\n",
      "DEBUG:yamath.newton:r:6.250000e-02\n",
      "DEBUG:yamath.newton:Psi:3.776102e-03\n",
      "DEBUG:yamath.newton:value:-1.676749e+00\n",
      "DEBUG:yamath.newton:count:3\tresidue:5.944998e+01\n",
      "DEBUG:yamath.newton:dx_norm:2.490392e+02\n",
      "INFO:yamath.newton:hook step\n",
      "DEBUG:yamath.newton:nu:4.454577e+02\n",
      "DEBUG:yamath.newton:r:6.250000e-02\n",
      "DEBUG:yamath.newton:Psi:3.832116e-03\n",
      "DEBUG:yamath.newton:value:-1.701634e+00\n",
      "DEBUG:yamath.newton:count:4\tresidue:5.942168e+01\n",
      "DEBUG:yamath.newton:dx_norm:2.474990e+02\n",
      "INFO:yamath.newton:hook step\n",
      "DEBUG:yamath.newton:nu:4.454577e+02\n",
      "DEBUG:yamath.newton:r:6.250000e-02\n",
      "DEBUG:yamath.newton:Psi:3.881839e-03\n",
      "DEBUG:yamath.newton:value:-1.723715e+00\n",
      "DEBUG:yamath.newton:count:5\tresidue:5.939301e+01\n",
      "DEBUG:yamath.newton:dx_norm:2.468482e+02\n",
      "INFO:yamath.newton:hook step\n",
      "DEBUG:yamath.newton:nu:4.454577e+02\n",
      "DEBUG:yamath.newton:r:6.250000e-02\n",
      "DEBUG:yamath.newton:Psi:3.925736e-03\n",
      "DEBUG:yamath.newton:value:-1.743199e+00\n",
      "DEBUG:yamath.newton:count:6\tresidue:5.936398e+01\n",
      "DEBUG:yamath.newton:dx_norm:2.469941e+02\n",
      "INFO:yamath.newton:hook step\n",
      "DEBUG:yamath.newton:nu:4.454577e+02\n",
      "DEBUG:yamath.newton:r:6.250000e-02\n",
      "DEBUG:yamath.newton:Psi:3.964417e-03\n",
      "DEBUG:yamath.newton:value:-1.760358e+00\n",
      "DEBUG:yamath.newton:count:7\tresidue:5.933459e+01\n",
      "DEBUG:yamath.newton:dx_norm:2.478649e+02\n",
      "INFO:yamath.newton:hook step\n",
      "DEBUG:yamath.newton:nu:4.454577e+02\n",
      "DEBUG:yamath.newton:r:6.250000e-02\n",
      "DEBUG:yamath.newton:Psi:3.998401e-03\n",
      "DEBUG:yamath.newton:value:-1.775423e+00\n",
      "DEBUG:yamath.newton:count:8\tresidue:5.930484e+01\n",
      "DEBUG:yamath.newton:dx_norm:2.494165e+02\n",
      "INFO:yamath.newton:hook step\n",
      "DEBUG:yamath.newton:nu:4.454577e+02\n",
      "DEBUG:yamath.newton:r:6.250000e-02\n",
      "DEBUG:yamath.newton:Psi:4.028166e-03\n",
      "DEBUG:yamath.newton:value:-1.788608e+00\n",
      "DEBUG:yamath.newton:count:9\tresidue:5.927473e+01\n",
      "DEBUG:yamath.newton:dx_norm:2.516133e+02\n",
      "INFO:yamath.newton:hook step\n",
      "DEBUG:yamath.newton:nu:4.454577e+02\n",
      "DEBUG:yamath.newton:r:6.250000e-02\n",
      "DEBUG:yamath.newton:Psi:4.054226e-03\n",
      "DEBUG:yamath.newton:value:-1.800139e+00\n",
      "DEBUG:yamath.newton:count:10\tresidue:5.924427e+01\n",
      "DEBUG:yamath.newton:dx_norm:2.544366e+02\n",
      "INFO:yamath.newton:hook step\n",
      "DEBUG:yamath.newton:nu:4.454577e+02\n",
      "DEBUG:yamath.newton:r:6.250000e-02\n",
      "DEBUG:yamath.newton:Psi:4.077070e-03\n",
      "DEBUG:yamath.newton:value:-1.810236e+00\n",
      "DEBUG:yamath.newton:count:11\tresidue:5.921344e+01\n",
      "DEBUG:yamath.newton:dx_norm:2.578859e+02\n",
      "INFO:yamath.newton:hook step\n",
      "DEBUG:yamath.newton:nu:4.454577e+02\n",
      "DEBUG:yamath.newton:r:6.250000e-02\n",
      "DEBUG:yamath.newton:Psi:4.097090e-03\n",
      "DEBUG:yamath.newton:value:-1.819073e+00\n",
      "DEBUG:yamath.newton:count:12\tresidue:5.918225e+01\n",
      "DEBUG:yamath.newton:dx_norm:2.619629e+02\n",
      "INFO:yamath.newton:hook step\n",
      "DEBUG:yamath.newton:nu:4.454577e+02\n",
      "DEBUG:yamath.newton:r:6.250000e-02\n",
      "DEBUG:yamath.newton:Psi:4.114750e-03\n",
      "DEBUG:yamath.newton:value:-1.826855e+00\n",
      "DEBUG:yamath.newton:count:13\tresidue:5.915068e+01\n",
      "DEBUG:yamath.newton:dx_norm:2.269654e+02\n",
      "INFO:yamath.newton:hook step\n",
      "DEBUG:yamath.newton:nu:4.454577e+02\n",
      "DEBUG:yamath.newton:r:6.250000e-02\n",
      "DEBUG:yamath.newton:Psi:4.620038e-03\n",
      "DEBUG:yamath.newton:Psi:3.878874e-03\n",
      "DEBUG:yamath.newton:value:-1.880011e+00\n",
      "DEBUG:yamath.newton:count:14\tresidue:5.911942e+01\n",
      "DEBUG:yamath.newton:dx_norm:2.328623e+02\n",
      "INFO:yamath.newton:hook step\n",
      "DEBUG:yamath.newton:nu:4.860923e+02\n",
      "DEBUG:yamath.newton:r:6.250000e-02\n",
      "DEBUG:yamath.newton:Psi:3.872198e-03\n",
      "DEBUG:yamath.newton:value:-1.876692e+00\n",
      "DEBUG:yamath.newton:count:15\tresidue:5.908784e+01\n",
      "DEBUG:yamath.newton:dx_norm:2.392067e+02\n",
      "INFO:yamath.newton:hook step\n",
      "DEBUG:yamath.newton:nu:4.860923e+02\n",
      "DEBUG:yamath.newton:r:6.250000e-02\n",
      "DEBUG:yamath.newton:Psi:3.866671e-03\n",
      "DEBUG:yamath.newton:value:-1.873928e+00\n",
      "DEBUG:yamath.newton:count:16\tresidue:5.905592e+01\n",
      "DEBUG:yamath.newton:dx_norm:2.460605e+02\n",
      "INFO:yamath.newton:hook step\n",
      "DEBUG:yamath.newton:nu:4.860923e+02\n",
      "DEBUG:yamath.newton:r:6.250000e-02\n",
      "DEBUG:yamath.newton:Psi:3.862172e-03\n",
      "DEBUG:yamath.newton:value:-1.871658e+00\n",
      "DEBUG:yamath.newton:count:17\tresidue:5.902363e+01\n",
      "DEBUG:yamath.newton:dx_norm:2.169895e+02\n",
      "INFO:yamath.newton:hook step\n",
      "DEBUG:yamath.newton:nu:4.860923e+02\n",
      "DEBUG:yamath.newton:r:6.250000e-02\n",
      "DEBUG:yamath.newton:Psi:4.336701e-03\n",
      "DEBUG:yamath.newton:Psi:3.895598e-03\n",
      "DEBUG:yamath.newton:value:-1.992221e+00\n",
      "DEBUG:yamath.newton:count:18\tresidue:5.899035e+01\n",
      "DEBUG:yamath.newton:dx_norm:2.260452e+02\n",
      "INFO:yamath.newton:hook step\n",
      "DEBUG:yamath.newton:nu:5.128354e+02\n",
      "DEBUG:yamath.newton:r:6.250000e-02\n",
      "DEBUG:yamath.newton:Psi:3.858473e-03\n",
      "DEBUG:yamath.newton:value:-1.973117e+00\n",
      "DEBUG:yamath.newton:count:19\tresidue:5.895681e+01\n",
      "DEBUG:yamath.newton:dx_norm:2.356658e+02\n",
      "INFO:yamath.newton:hook step\n",
      "DEBUG:yamath.newton:nu:5.128354e+02\n",
      "DEBUG:yamath.newton:r:6.250000e-02\n",
      "DEBUG:yamath.newton:Psi:3.826945e-03\n",
      "DEBUG:yamath.newton:value:-1.956874e+00\n",
      "DEBUG:yamath.newton:count:20\tresidue:5.892277e+01\n",
      "DEBUG:yamath.newton:dx_norm:2.112145e+02\n",
      "INFO:yamath.newton:hook step\n",
      "DEBUG:yamath.newton:nu:5.128354e+02\n",
      "DEBUG:yamath.newton:r:6.250000e-02\n",
      "DEBUG:yamath.newton:Psi:4.286137e-03\n",
      "DEBUG:yamath.newton:value:-2.191799e+00\n",
      "DEBUG:yamath.newton:count:21\tresidue:5.888583e+01\n",
      "DEBUG:yamath.newton:dx_norm:2.249756e+02\n",
      "INFO:yamath.newton:hook step\n",
      "DEBUG:yamath.newton:nu:5.128354e+02\n",
      "DEBUG:yamath.newton:r:6.250000e-02\n",
      "DEBUG:yamath.newton:Psi:4.191034e-03\n",
      "DEBUG:yamath.newton:value:-2.142990e+00\n",
      "DEBUG:yamath.newton:count:22\tresidue:5.884847e+01\n",
      "DEBUG:yamath.newton:dx_norm:2.064259e+02\n",
      "INFO:yamath.newton:hook step\n",
      "DEBUG:yamath.newton:nu:5.128354e+02\n",
      "DEBUG:yamath.newton:r:6.250000e-02\n",
      "DEBUG:yamath.newton:Psi:4.649708e-03\n",
      "DEBUG:yamath.newton:Psi:3.876756e-03\n",
      "DEBUG:yamath.newton:value:-2.171240e+00\n",
      "DEBUG:yamath.newton:count:23\tresidue:5.881163e+01\n",
      "DEBUG:yamath.newton:dx_norm:2.196463e+02\n",
      "INFO:yamath.newton:hook step\n",
      "DEBUG:yamath.newton:nu:5.615667e+02\n",
      "DEBUG:yamath.newton:r:6.250000e-02\n",
      "DEBUG:yamath.newton:Psi:3.798762e-03\n",
      "DEBUG:yamath.newton:value:-2.127400e+00\n",
      "DEBUG:yamath.newton:count:24\tresidue:5.877400e+01\n",
      "DEBUG:yamath.newton:dx_norm:2.019938e+02\n",
      "INFO:yamath.newton:hook step\n",
      "DEBUG:yamath.newton:nu:5.615667e+02\n",
      "DEBUG:yamath.newton:r:6.250000e-02\n",
      "DEBUG:yamath.newton:Psi:4.232712e-03\n",
      "DEBUG:yamath.newton:value:-2.370403e+00\n",
      "DEBUG:yamath.newton:count:25\tresidue:5.873317e+01\n",
      "DEBUG:yamath.newton:dx_norm:1.906438e+02\n",
      "INFO:yamath.newton:hook step\n",
      "DEBUG:yamath.newton:nu:5.615667e+02\n",
      "DEBUG:yamath.newton:r:6.250000e-02\n",
      "DEBUG:yamath.newton:Psi:4.657986e-03\n",
      "DEBUG:yamath.newton:Psi:3.876154e-03\n",
      "DEBUG:yamath.newton:value:-2.379780e+00\n",
      "DEBUG:yamath.newton:count:26\tresidue:5.869276e+01\n",
      "DEBUG:yamath.newton:dx_norm:2.060794e+02\n",
      "INFO:yamath.newton:hook step\n",
      "DEBUG:yamath.newton:nu:6.155262e+02\n",
      "DEBUG:yamath.newton:r:6.250000e-02\n",
      "DEBUG:yamath.newton:Psi:3.758794e-03\n",
      "DEBUG:yamath.newton:value:-2.307553e+00\n",
      "DEBUG:yamath.newton:count:27\tresidue:5.865127e+01\n",
      "DEBUG:yamath.newton:dx_norm:1.936698e+02\n",
      "INFO:yamath.newton:hook step\n",
      "DEBUG:yamath.newton:nu:6.155262e+02\n",
      "DEBUG:yamath.newton:r:6.250000e-02\n",
      "DEBUG:yamath.newton:Psi:4.168833e-03\n",
      "DEBUG:yamath.newton:value:-2.559131e+00\n",
      "DEBUG:yamath.newton:count:28\tresidue:5.860584e+01\n",
      "DEBUG:yamath.newton:dx_norm:1.862852e+02\n",
      "INFO:yamath.newton:hook step\n",
      "DEBUG:yamath.newton:nu:6.155262e+02\n",
      "DEBUG:yamath.newton:r:6.250000e-02\n",
      "DEBUG:yamath.newton:Psi:4.567696e-03\n",
      "DEBUG:yamath.newton:Psi:3.882450e-03\n",
      "DEBUG:yamath.newton:value:-2.585165e+00\n",
      "DEBUG:yamath.newton:count:29\tresidue:5.855993e+01\n",
      "DEBUG:yamath.newton:dx_norm:1.795382e+02\n",
      "INFO:yamath.newton:hook step\n",
      "DEBUG:yamath.newton:nu:6.675674e+02\n",
      "DEBUG:yamath.newton:r:6.250000e-02\n",
      "DEBUG:yamath.newton:Psi:4.268063e-03\n",
      "DEBUG:yamath.newton:value:-2.841635e+00\n",
      "DEBUG:yamath.newton:count:30\tresidue:5.850933e+01\n",
      "DEBUG:yamath.newton:dx_norm:1.765531e+02\n",
      "INFO:yamath.newton:hook step\n",
      "DEBUG:yamath.newton:nu:6.675674e+02\n",
      "DEBUG:yamath.newton:r:6.250000e-02\n",
      "DEBUG:yamath.newton:Psi:4.638388e-03\n",
      "DEBUG:yamath.newton:Psi:3.877571e-03\n",
      "DEBUG:yamath.newton:value:-2.823566e+00\n",
      "DEBUG:yamath.newton:count:31\tresidue:5.845811e+01\n",
      "DEBUG:yamath.newton:dx_norm:1.543112e+02\n",
      "INFO:yamath.newton:hook step\n",
      "DEBUG:yamath.newton:nu:7.300404e+02\n",
      "DEBUG:yamath.newton:r:6.250000e-02\n",
      "DEBUG:yamath.newton:Psi:4.874830e-03\n",
      "DEBUG:yamath.newton:Psi:3.858724e-03\n",
      "DEBUG:yamath.newton:value:-3.157878e+00\n",
      "DEBUG:yamath.newton:count:32\tresidue:5.840352e+01\n",
      "DEBUG:yamath.newton:dx_norm:1.536921e+02\n",
      "INFO:yamath.newton:hook step\n",
      "DEBUG:yamath.newton:nu:8.204225e+02\n",
      "DEBUG:yamath.newton:r:6.250000e-02\n",
      "DEBUG:yamath.newton:Psi:4.199793e-03\n",
      "DEBUG:yamath.newton:value:-3.436429e+00\n",
      "DEBUG:yamath.newton:count:33\tresidue:5.834246e+01\n",
      "DEBUG:yamath.newton:dx_norm:1.402752e+02\n",
      "INFO:yamath.newton:hook step\n",
      "DEBUG:yamath.newton:nu:8.204225e+02\n",
      "DEBUG:yamath.newton:r:6.250000e-02\n",
      "DEBUG:yamath.newton:Psi:5.221401e-03\n",
      "DEBUG:yamath.newton:Psi:3.825155e-03\n",
      "DEBUG:yamath.newton:value:-3.656148e+00\n",
      "DEBUG:yamath.newton:count:34\tresidue:5.827876e+01\n",
      "DEBUG:yamath.newton:dx_norm:1.424137e+02\n",
      "INFO:yamath.newton:hook step\n",
      "DEBUG:yamath.newton:nu:9.583210e+02\n",
      "DEBUG:yamath.newton:r:6.250000e-02\n",
      "DEBUG:yamath.newton:Psi:4.144786e-03\n",
      "DEBUG:yamath.newton:value:-3.960846e+00\n",
      "DEBUG:yamath.newton:count:35\tresidue:5.820576e+01\n",
      "DEBUG:yamath.newton:dx_norm:1.334655e+02\n",
      "INFO:yamath.newton:hook step\n",
      "DEBUG:yamath.newton:nu:9.583210e+02\n",
      "DEBUG:yamath.newton:r:6.250000e-02\n",
      "DEBUG:yamath.newton:Psi:5.158520e-03\n",
      "DEBUG:yamath.newton:Psi:3.831701e-03\n",
      "DEBUG:yamath.newton:value:-4.247387e+00\n",
      "DEBUG:yamath.newton:count:36\tresidue:5.812711e+01\n",
      "DEBUG:yamath.newton:dx_norm:1.262286e+02\n",
      "INFO:yamath.newton:hook step\n",
      "DEBUG:yamath.newton:nu:1.111675e+03\n",
      "DEBUG:yamath.newton:r:6.250000e-02\n",
      "DEBUG:yamath.newton:Psi:4.816287e-03\n",
      "DEBUG:yamath.newton:Psi:3.863730e-03\n",
      "DEBUG:yamath.newton:value:-4.779776e+00\n",
      "DEBUG:yamath.newton:count:37\tresidue:5.803670e+01\n",
      "DEBUG:yamath.newton:dx_norm:1.122337e+02\n",
      "INFO:yamath.newton:hook step\n",
      "DEBUG:yamath.newton:nu:1.240944e+03\n",
      "DEBUG:yamath.newton:r:6.250000e-02\n",
      "DEBUG:yamath.newton:Psi:5.703060e-03\n",
      "DEBUG:yamath.newton:Psi:3.769672e-03\n",
      "DEBUG:yamath.newton:value:-5.731176e+00\n",
      "DEBUG:yamath.newton:count:38\tresidue:5.793125e+01\n",
      "DEBUG:yamath.newton:dx_norm:1.102753e+02\n",
      "INFO:yamath.newton:hook step\n",
      "DEBUG:yamath.newton:nu:1.525731e+03\n",
      "DEBUG:yamath.newton:r:6.250000e-02\n",
      "DEBUG:yamath.newton:Psi:4.797398e-03\n",
      "DEBUG:yamath.newton:Psi:3.865300e-03\n",
      "DEBUG:yamath.newton:value:-6.542363e+00\n",
      "DEBUG:yamath.newton:count:39\tresidue:5.779805e+01\n",
      "DEBUG:yamath.newton:dx_norm:9.695407e+01\n",
      "INFO:yamath.newton:hook step\n",
      "DEBUG:yamath.newton:nu:1.699379e+03\n",
      "DEBUG:yamath.newton:r:6.250000e-02\n",
      "DEBUG:yamath.newton:Psi:7.072336e-03\n",
      "DEBUG:yamath.newton:Psi:3.581378e-03\n",
      "DEBUG:yamath.newton:value:-8.500757e+00\n",
      "DEBUG:yamath.newton:count:40\tresidue:5.762322e+01\n",
      "DEBUG:yamath.newton:dx_norm:8.879681e+01\n",
      "INFO:yamath.newton:hook step\n",
      "DEBUG:yamath.newton:nu:2.385630e+03\n",
      "DEBUG:yamath.newton:r:6.250000e-02\n",
      "DEBUG:yamath.newton:Psi:7.190671e-03\n",
      "DEBUG:yamath.newton:Psi:3.564056e-03\n",
      "DEBUG:yamath.newton:value:-1.197420e+01\n",
      "DEBUG:yamath.newton:count:41\tresidue:5.729938e+01\n",
      "DEBUG:yamath.newton:dx_norm:7.354643e+01\n",
      "INFO:yamath.newton:hook step\n",
      "DEBUG:yamath.newton:nu:3.383551e+03\n",
      "DEBUG:yamath.newton:r:6.250000e-02\n",
      "DEBUG:yamath.newton:Psi:3.454019e-02\n",
      "DEBUG:yamath.newton:Psi:1.426248e-03\n",
      "DEBUG:yamath.newton:Psi:3.061355e-03\n",
      "DEBUG:yamath.newton:Psi:3.848812e-03\n",
      "DEBUG:yamath.newton:value:-3.733338e+01\n"
     ]
    },
    {
     "ename": "RuntimeError",
     "evalue": "Invalid trusted region",
     "output_type": "error",
     "traceback": [
      "\u001b[1;31m---------------------------------------------------------------------------\u001b[0m",
      "\u001b[1;31mRuntimeError\u001b[0m                              Traceback (most recent call last)",
      "\u001b[1;32m<ipython-input-16-51e998a972fb>\u001b[0m in \u001b[0;36m<module>\u001b[1;34m()\u001b[0m\n\u001b[1;32m----> 1\u001b[1;33m \u001b[0mnewton\u001b[0m\u001b[1;33m.\u001b[0m\u001b[0mnewton_krylov_hook\u001b[0m\u001b[1;33m(\u001b[0m\u001b[0mP\u001b[0m\u001b[1;33m,\u001b[0m \u001b[0myp\u001b[0m\u001b[1;33m[\u001b[0m\u001b[1;33m:\u001b[0m\u001b[1;36m2\u001b[0m\u001b[1;33m]\u001b[0m\u001b[1;33m,\u001b[0m \u001b[0mr\u001b[0m\u001b[1;33m=\u001b[0m\u001b[1;36m0.0625\u001b[0m\u001b[1;33m)\u001b[0m\u001b[1;33m\u001b[0m\u001b[0m\n\u001b[0m",
      "\u001b[1;32m/home/teramura/workspace/yamath/yamath/newton.py\u001b[0m in \u001b[0;36mnewton_krylov_hook\u001b[1;34m(func, x0, r, ftol, maxiter)\u001b[0m\n\u001b[0;32m    133\u001b[0m             \u001b[0mres_pre\u001b[0m \u001b[1;33m=\u001b[0m \u001b[0mres\u001b[0m\u001b[1;33m\u001b[0m\u001b[0m\n\u001b[0;32m    134\u001b[0m         \u001b[1;32mif\u001b[0m \u001b[0mres\u001b[0m \u001b[1;33m>\u001b[0m \u001b[0mres_pre\u001b[0m\u001b[1;33m:\u001b[0m\u001b[1;33m\u001b[0m\u001b[0m\n\u001b[1;32m--> 135\u001b[1;33m             \u001b[1;32mraise\u001b[0m \u001b[0mRuntimeError\u001b[0m\u001b[1;33m(\u001b[0m\u001b[1;34m\"Invalid trusted region\"\u001b[0m\u001b[1;33m)\u001b[0m\u001b[1;33m\u001b[0m\u001b[0m\n\u001b[0m\u001b[0;32m    136\u001b[0m         \u001b[0mlogger\u001b[0m\u001b[1;33m.\u001b[0m\u001b[0mdebug\u001b[0m\u001b[1;33m(\u001b[0m\u001b[1;34m'count:{:d}\\tresidue:{:e}'\u001b[0m\u001b[1;33m.\u001b[0m\u001b[0mformat\u001b[0m\u001b[1;33m(\u001b[0m\u001b[0mt\u001b[0m\u001b[1;33m,\u001b[0m \u001b[0mres\u001b[0m\u001b[1;33m)\u001b[0m\u001b[1;33m)\u001b[0m\u001b[1;33m\u001b[0m\u001b[0m\n\u001b[0;32m    137\u001b[0m         \u001b[1;32mif\u001b[0m \u001b[0mres\u001b[0m \u001b[1;33m<=\u001b[0m \u001b[0mftol\u001b[0m\u001b[1;33m:\u001b[0m\u001b[1;33m\u001b[0m\u001b[0m\n",
      "\u001b[1;31mRuntimeError\u001b[0m: Invalid trusted region"
     ]
    }
   ],
   "source": [
    "newton.newton_krylov_hook(P, yp[:2], r=0.0625)"
   ]
  },
  {
   "cell_type": "code",
   "execution_count": null,
   "metadata": {
    "collapsed": true
   },
   "outputs": [],
   "source": []
  }
 ],
 "metadata": {
  "kernelspec": {
   "display_name": "Python 2",
   "language": "python",
   "name": "python2"
  }
 },
 "nbformat": 4,
 "nbformat_minor": 0
}
